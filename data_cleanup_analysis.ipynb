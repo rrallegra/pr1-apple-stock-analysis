{
 "cells": [
  {
   "cell_type": "code",
   "execution_count": 1,
   "metadata": {
    "collapsed": true
   },
   "outputs": [],
   "source": [
    "###Data Exploration and Cleanup\n",
    "\n",
    "#Component: \"api_component.py\"\n",
    "'''\n",
    "While stock datasets are available from Quandl/Kaggle, \n",
    "the former is limited in nature (for the free datasets), and \n",
    "the latter is already scrubbed and cleaned in advance. Stock data\n",
    "from Google Finance and Yahoo Maps APIs are both no longer available.\n",
    "\n",
    "Alphavantage offers a free API key with lifetime access,\n",
    "and relatively few restrictions compared to other available stock\n",
    "data resources. \n",
    "\n",
    "Apple stock ticker and API key passed as request to the Alphavantage API:\n",
    "'''\n",
    "stock_ticker = \"AAPL\"\n",
    "target_url = \"https://www.alphavantage.co/query?function=TIME_SERIES_DAILY&symbol=\"+stock_ticker+\"&outputsize=full&apikey=\"+api_key\n",
    "\n",
    "'''\n",
    "Additionally, the Alphavantage API allows the pulling of technical indicator \n",
    "data in addition to price data for a specific stock and specified timeframe.\n",
    "\n",
    "Price and RSI data for Apple was requested via the API and stored in three ways:\n",
    "1. a raw JSON object (for debugging and retrival)\n",
    "2. a dataframe object (for data manipulation and verification)\n",
    "3. a CSV file (for retrival)\n",
    "\n",
    "Cleaning up the data, going from JSON -> DATAFRAME -> CSV, the timestamp column \n",
    "was converted to a datetime type and then datetime format for parsing. This was \n",
    "done for both price data and RSI data for Apple stock:\n",
    "'''\n",
    "df['timestamp'] = df['timestamp'].astype('datetime64[ns]')\n",
    "df.to_csv(\"apple_raw.csv\",date_format=\"%Y-%m-%d\",index = False)\n",
    "\n",
    "df_rsi['timestamp'] = df_rsi['timestamp'].astype('datetime64[ns]')\n",
    "df_rsi.to_csv(\"apple_raw_rsi.csv\",date_format=\"%Y-%m-%d\",index = False)\n",
    "'''\n",
    "\n",
    "Raw JSON responses were saved to \n",
    "'''\n",
    "json.dump(apple_raw_rsi, outfile,indent=4, sort_keys=True)\n",
    "\n",
    "\n",
    "#Check if apple_raw_rsi and apple_raw_rsi.csv exists\n",
    "if os.path.isfile(\"apple_raw_rsi\") == False or os.path.isfile(\"apple_raw_rsi.csv\") == False:\n",
    "\n",
    "\t#API request (RSI data for close price)\n",
    "\ttarget_url_rsi = \"https://www.alphavantage.co/query?function=RSI&symbol=\"+stock_ticker+\"&interval=daily&time_period=60&series_type=close&apikey=\"+api_key\n",
    "\tprint(\"API request: \" + target_url_rsi)\n",
    "\n",
    "\tapple_raw_rsi = requests.get(target_url_rsi).json()\n",
    "\n",
    "\t#Save JSON response to file\n",
    "\twith open('apple_raw_rsi','w+') as outfile:\n",
    "\t\tjson.dump(apple_raw_rsi, outfile,indent=4, sort_keys=True)\n",
    "\n",
    "\t#Save JSON response to CSV\n",
    "\tdf_rsi = pd.DataFrame.from_dict(apple_raw_rsi[\"Technical Analysis: RSI\"], orient='index')\n",
    "\tdf_rsi.reset_index(inplace=True)\n",
    "\tdf_rsi = df_rsi.rename(columns={\"index\":\"timestamp\"})\n",
    "\tdf_rsi['timestamp'] = df_rsi['timestamp'].astype('datetime64[ns]')\n",
    "\tdf_rsi.to_csv(\"apple_raw_rsi.csv\",date_format=\"%Y-%m-%d\",index = False)\n"
   ]
  },
  {
   "cell_type": "code",
   "execution_count": null,
   "metadata": {
    "collapsed": true
   },
   "outputs": [],
   "source": [
    "###Final Data Analysis"
   ]
  },
  {
   "cell_type": "code",
   "execution_count": null,
   "metadata": {
    "collapsed": true
   },
   "outputs": [],
   "source": []
  }
 ],
 "metadata": {
  "kernelspec": {
   "display_name": "Python 3",
   "language": "python",
   "name": "python3"
  },
  "language_info": {
   "codemirror_mode": {
    "name": "ipython",
    "version": 3
   },
   "file_extension": ".py",
   "mimetype": "text/x-python",
   "name": "python",
   "nbconvert_exporter": "python",
   "pygments_lexer": "ipython3",
   "version": "3.6.1"
  }
 },
 "nbformat": 4,
 "nbformat_minor": 2
}
